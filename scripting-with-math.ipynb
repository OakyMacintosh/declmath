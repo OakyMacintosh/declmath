{
 "cells": [
  {
   "cell_type": "markdown",
   "id": "dab984ca",
   "metadata": {},
   "source": [
    "# MathAsScripting (DeclMath)\n",
    "\n",
    "## Usage Example, adding two valued from `x` and `y` then naming the result as `z`\n"
   ]
  },
  {
   "cell_type": "code",
   "execution_count": null,
   "id": "43f629bf",
   "metadata": {},
   "outputs": [],
   "source": [
    "from declmath.std import Decl\n",
    "\n",
    "dm = Decl(__init__)\n",
    "# dm.lang(\"en\")\n",
    "\n",
    "# set x as 2\n",
    "dm.Var(2, \"x\")\n",
    "# set y as 64\n",
    "dm.Var(64, \"y\")\n",
    "\n",
    "z = dm.sum(var, x, y)\n",
    "\n",
    "# print result\n",
    "print(z)"
   ]
  }
 ],
 "metadata": {
  "kernelspec": {
   "display_name": "Python 3",
   "language": "python",
   "name": "python3"
  },
  "language_info": {
   "codemirror_mode": {
    "name": "ipython",
    "version": 3
   },
   "file_extension": ".py",
   "mimetype": "text/x-python",
   "name": "python",
   "nbconvert_exporter": "python",
   "pygments_lexer": "ipython3",
   "version": "3.12.1"
  }
 },
 "nbformat": 4,
 "nbformat_minor": 5
}
